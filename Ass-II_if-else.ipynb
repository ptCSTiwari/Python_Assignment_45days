{
 "cells": [
  {
   "cell_type": "code",
   "execution_count": null,
   "id": "a92d921f",
   "metadata": {},
   "outputs": [
    {
     "data": {
      "text/plain": [
       "'Positive'"
      ]
     },
     "execution_count": 2,
     "metadata": {},
     "output_type": "execute_result"
    }
   ],
   "source": [
    "'''1. How do `if-elif-else` statements work in Python? Provide an example where multiple conditions must be checked and explain the flow of control.\n",
    "   Coding Challenge:Write a function that takes a number as input and returns \"Positive\", \"Negative\", or \"Zero\" based on the input value.\n",
    "\n",
    "Ans- The if-elif-else statement is used to check multiple conditions one by one. Python checks from top to bottom, and the moment it finds a condition that is True, it runs that block and skips the r'''\n",
    "\n",
    "# coding challange-\n",
    "\n",
    "def check_number(num):\n",
    "    if num > 0:\n",
    "        return \"Positive\"\n",
    "    elif num < 0:\n",
    "        return \"Negative\"\n",
    "    else:\n",
    "        return \"Zero\"\n",
    "check_number(7)    "
   ]
  },
  {
   "cell_type": "code",
   "execution_count": null,
   "id": "b8af7d3a",
   "metadata": {},
   "outputs": [
    {
     "name": "stdout",
     "output_type": "stream",
     "text": [
      "2\n",
      "3\n",
      "5\n",
      "7\n",
      "11\n",
      "13\n",
      "17\n",
      "19\n",
      "23\n",
      "29\n",
      "31\n",
      "37\n",
      "41\n",
      "43\n",
      "47\n",
      "53\n",
      "59\n",
      "61\n",
      "67\n",
      "71\n",
      "73\n",
      "79\n",
      "83\n",
      "89\n",
      "97\n"
     ]
    }
   ],
   "source": [
    "'''Q2.  What is the difference between `for` loops and `while` loops in terms of conditional checks? When would you prefer one over the other? \n",
    "   -  Coding Challenge:  Write a Python script to print all prime numbers between 1 and 100 using a `for` loop.\n",
    "\n",
    "Answer- for loop is used when we know how many times to run the loop.\n",
    "while loop is used when we don’t know how many times to run, and we want to run until a condition becomes false.\n",
    "\n",
    "Use for → when looping over a range or list.\n",
    "Use while → when looping depends on a condition.'''\n",
    "\n",
    "# coding challange-\n",
    "\n",
    "for num in range(2, 101):\n",
    "    for i in range(2, int(num**0.5)+1):\n",
    "        if num % i == 0:\n",
    "            break\n",
    "    else:\n",
    "        print(num)\n"
   ]
  },
  {
   "cell_type": "code",
   "execution_count": 4,
   "id": "59fdb56d",
   "metadata": {},
   "outputs": [
    {
     "data": {
      "text/plain": [
       "53"
      ]
     },
     "execution_count": 4,
     "metadata": {},
     "output_type": "execute_result"
    }
   ],
   "source": [
    "'''3.  Explain how nested `if` statements work in Python. How can you avoid deep nesting to make your code more readable? \n",
    "   -  Coding Challenge:  Write a function that takes three numbers as input and returns the largest of the three using nested `if` statements.\n",
    "\n",
    "Answer- \n",
    "Nested if means using one if statement inside another. It lets us check more conditions step-by-step. But too many nested levels can make code hard to read.\n",
    "\n",
    "To avoid deep nesting, use:\n",
    "\n",
    "elif and else\n",
    "Logical operators like and, or\n",
    "Return early from a function'''\n",
    "\n",
    "# coding challange-\n",
    "\n",
    "def largest(a, b, c):\n",
    "    if a > b:\n",
    "        if a > c:\n",
    "            return a\n",
    "        else:\n",
    "            return c\n",
    "    else:\n",
    "        if b > c:\n",
    "            return b\n",
    "        else:\n",
    "            return c\n",
    "largest(12,53,7)"
   ]
  },
  {
   "cell_type": "code",
   "execution_count": 9,
   "id": "4a6e8378",
   "metadata": {},
   "outputs": [
    {
     "name": "stdout",
     "output_type": "stream",
     "text": [
      "the entered number is 4\n",
      "the entered number is 53\n",
      "the entered number is 3\n",
      "the entered number is 5\n",
      "the entered number is 7\n",
      "the entered number is 8\n",
      "the entered number is 5\n",
      "the entered number is 2\n",
      "the entered number is 4\n",
      "the entered number is 5\n",
      "the entered number is -5\n",
      "Sum = 96\n"
     ]
    }
   ],
   "source": [
    "'''4.  What are the potential risks of using `break` in loops? How does it affect loop execution and what alternatives can you use? \n",
    "   -  Coding Challenge:  Write a Python program that reads numbers from the user until they input a negative number. The program should then print the sum of all positive numbers entered.\n",
    "\n",
    "   Answer-\n",
    "   break is used to exit a loop early when a condition is met. But if used carelessly, it can make code hard to understand and may skip important parts of the loop.\n",
    "\n",
    "Effect: As soon as break runs, the loop stops, even if items are left.\n",
    "\n",
    "Alternatives:\n",
    "Use proper loop conditions\n",
    "Use flags (boolean variables)\n",
    "Use return in functions if possible'''\n",
    "\n",
    "#coding challange\n",
    "\n",
    "total = 0\n",
    "while True:\n",
    "    num = int(input(\"Enter a number: \"))\n",
    "    print(\"the entered number is\", num)\n",
    "    if num < 0:\n",
    "        break\n",
    "    total += num\n",
    "\n",
    "print(\"Sum =\", total)"
   ]
  },
  {
   "cell_type": "code",
   "execution_count": 14,
   "id": "2b659cda",
   "metadata": {},
   "outputs": [
    {
     "name": "stdout",
     "output_type": "stream",
     "text": [
      "3\n",
      "-1\n"
     ]
    }
   ],
   "source": [
    "'''5.  How does the `else` clause in a loop work, and how does it differ from the `else` in conditional statements? \n",
    "    -  Coding Challenge:  Write a function that searches for a specific element in a list using a `for` loop. If the element is found, return its index; if not, return -1 using the `else` clause in the loop.\n",
    "    \n",
    "Answer- \n",
    "In loops, else runs only if the loop completes normally (without break).\n",
    "In conditional statements, else runs when all if and elif conditions are false.'''\n",
    "\n",
    "#codingchallange\n",
    "\n",
    "def search_element(lst, target):\n",
    "    for i in range(len(lst)):\n",
    "        if lst[i] == target:\n",
    "            return i\n",
    "    else:\n",
    "        return -1\n",
    "print(search_element([23,54,2,4,43], 4))\n",
    "print(search_element([23,54,2,4,43], 7))   "
   ]
  },
  {
   "cell_type": "code",
   "execution_count": 17,
   "id": "f8152728",
   "metadata": {},
   "outputs": [
    {
     "data": {
      "text/plain": [
       "True"
      ]
     },
     "execution_count": 17,
     "metadata": {},
     "output_type": "execute_result"
    }
   ],
   "source": [
    "'''6.  What is a common pitfall when using floating-point numbers in conditional statements? How can you avoid it? \n",
    "   -  Coding Challenge:  Write a Python function that compares two floating-point numbers and returns `True` if they are approximately equal, considering a small tolerance value.\n",
    "\n",
    "Abswer- Floating-point numbers can have small rounding errors, so comparing them directly (like a == b) may give wrong results even if they look equal.\n",
    "\n",
    "Example pitfall:\n",
    "0.1 + 0.2 == 0.3 → False (due to precision issues)\n",
    "\n",
    "How to avoid: Use a small tolerance value and check if the difference is very small instead of exact match.'''\n",
    "\n",
    "#coding challange\n",
    "\n",
    "def approx_equal(a, b, tol=1e-9):\n",
    "    return abs(a - b) < tol\n",
    "approx_equal(0.1,0.2,0.3)"
   ]
  },
  {
   "cell_type": "code",
   "execution_count": 28,
   "id": "bc740949",
   "metadata": {},
   "outputs": [
    {
     "name": "stdout",
     "output_type": "stream",
     "text": [
      "2\n",
      "3\n",
      "4\n",
      "5\n",
      "6\n",
      "[2, 4, 6]\n"
     ]
    }
   ],
   "source": [
    "'''7.  How can you combine `for` loops and `if` statements to filter and process data in Python? \n",
    "   -  Coding Challenge:  Given a list of integers, write a Python program that uses a `for` loop and `if` statements to create a new list containing only the even numbers.\n",
    "   \n",
    "Answer-\n",
    "You can use a for loop to go through each item in a list, and use an if statement inside it to check a condition. This way, you can filter out specific data (like even numbers) or apply some logic only to matching items.'''\n",
    "\n",
    "#coding challange\n",
    "\n",
    "lst = [2,3,4,5,6]\n",
    "nlst = []\n",
    "n = len(lst)\n",
    "for i in range(n):\n",
    "  print(lst[i])\n",
    "  if (lst[i]%2==0):\n",
    "    nlst.append(lst[i])\n",
    "  else:\n",
    "    continue \n",
    "print(nlst)"
   ]
  },
  {
   "cell_type": "code",
   "execution_count": 33,
   "id": "5f36b65f",
   "metadata": {},
   "outputs": [
    {
     "name": "stdout",
     "output_type": "stream",
     "text": [
      "False\n",
      "True\n"
     ]
    }
   ],
   "source": [
    "'''8.  Discuss the concept of short-circuit evaluation in Python. How does it affect the performance of conditional statements? \n",
    "   -  Coding Challenge:  Write a function that takes three boolean values and returns `True` if at least two of them are `True`, using short-circuit evaluation.\n",
    "\n",
    "Answer-\n",
    "Short-circuit evaluation means Python stops checking conditions as soon as the result is clear.\n",
    "\n",
    "In an or condition, if the first condition is True, Python doesn’t check the rest.\n",
    "In an and condition, if the first condition is False, Python skips the rest.\n",
    "\n",
    "Why it's useful: It makes the code faster and avoids unnecessary checks, especially when calling functions or doing heavy operations.'''\n",
    "\n",
    "#coding challange\n",
    "\n",
    "def at_least_two_true(a, b, c):\n",
    "    return (a and b) or (a and c) or (b and c)\n",
    "print(at_least_two_true(True, False, False))\n",
    "print(at_least_two_true(True, False, True))"
   ]
  },
  {
   "cell_type": "code",
   "execution_count": 34,
   "id": "bd4ac56a",
   "metadata": {},
   "outputs": [
    {
     "name": "stdout",
     "output_type": "stream",
     "text": [
      "9\n",
      "12\n",
      "18\n"
     ]
    }
   ],
   "source": [
    "'''9.  Explain how the `continue` statement works in a loop. What are some scenarios where using `continue` is more beneficial than restructuring the loop? \n",
    "   -  Coding Challenge:  Write a Python program that iterates through a list of numbers and prints only those numbers that are divisible by 3, using the `continue` statement.\n",
    "   \n",
    "Answer-\n",
    "The continue statement skips the current iteration and moves to the next one in a loop.\n",
    "\n",
    "When to use: Use continue when you want to ignore certain values based on a condition without writing nested if-else. It makes the loop cleaner and easier to read. '''\n",
    "\n",
    "#coding challange\n",
    "\n",
    "numbers = [5, 9, 12, 4, 7, 18, 20]\n",
    "\n",
    "for num in numbers:\n",
    "    if num % 3 != 0:\n",
    "        continue\n",
    "    print(num)\n"
   ]
  },
  {
   "cell_type": "code",
   "execution_count": 35,
   "id": "d0b69925",
   "metadata": {},
   "outputs": [
    {
     "name": "stdout",
     "output_type": "stream",
     "text": [
      "[4, 16, 36, 64, 100, 144, 196, 256, 324, 400]\n"
     ]
    }
   ],
   "source": [
    "'''10.  How can you use list comprehensions in combination with conditional statements to make your code more concise? \n",
    "-  Coding Challenge:  Write a list comprehension that generates a list of squares of all even numbers between 1 and 20.\n",
    "\n",
    "Answer-\n",
    "List comprehension lets you create new lists in one line, and you can also add an if condition to filter elements. It makes the code shorter and more readable compared to using loops.'''\n",
    "\n",
    "#coding challange\n",
    "\n",
    "squares = [x**2 for x in range(1, 21) if x % 2 == 0]\n",
    "print(squares)\n"
   ]
  }
 ],
 "metadata": {
  "kernelspec": {
   "display_name": "Python 3",
   "language": "python",
   "name": "python3"
  },
  "language_info": {
   "codemirror_mode": {
    "name": "ipython",
    "version": 3
   },
   "file_extension": ".py",
   "mimetype": "text/x-python",
   "name": "python",
   "nbconvert_exporter": "python",
   "pygments_lexer": "ipython3",
   "version": "3.13.3"
  }
 },
 "nbformat": 4,
 "nbformat_minor": 5
}
