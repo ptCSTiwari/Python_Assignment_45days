{
 "cells": [
  {
   "cell_type": "code",
   "execution_count": 1,
   "id": "3caac195",
   "metadata": {},
   "outputs": [
    {
     "name": "stdout",
     "output_type": "stream",
     "text": [
      "Hello, Pushpendra!\n",
      "Hi, Pushpendra!\n",
      "None, Pushpendra!\n"
     ]
    }
   ],
   "source": [
    "'''1.  What are default arguments in Python functions, and how do they differ from required arguments? What happens when you pass `None` as a value to a parameter with a default argument? \n",
    "    -  Coding Challenge: Write a function `greet` that takes a name as a required argument and a greeting message as an optional argument. \n",
    "       If no greeting is provided, it should default to \"Hello\".\n",
    "\n",
    "Answer -\n",
    "Default arguments are those that have a predefined value in the function definition.\n",
    "If no value is passed for them during the function call, the default is used.\n",
    "Required arguments must be provided when the function is called.\n",
    "If you pass None to a default argument, then None is used instead of the default value.\n",
    "'''\n",
    "\n",
    "#coding challenge\n",
    "\n",
    "def greet(name, greeting=\"Hello\"):\n",
    "    print(f\"{greeting}, {name}!\")\n",
    "\n",
    "greet(\"Pushpendra\")           \n",
    "greet(\"Pushpendra\", \"Hi\")     \n",
    "greet(\"Pushpendra\", None)   \n"
   ]
  },
  {
   "cell_type": "code",
   "execution_count": 2,
   "id": "f255547d",
   "metadata": {},
   "outputs": [
    {
     "name": "stdout",
     "output_type": "stream",
     "text": [
      "6\n",
      "36\n",
      "-6\n",
      "-36\n"
     ]
    }
   ],
   "source": [
    "'''2.  Explain the concept of variable-length arguments in Python. \n",
    "    How do `*args` and `**kwargs` work, and how can they be used together in a function? \n",
    "    -  Coding Challenge: Write a function `summarize` that takes any number of numerical arguments and returns their sum. \n",
    "       The function should also accept optional keyword arguments that specify whether the result should be squared or negated.\n",
    "\n",
    "Answer -\n",
    "*args allows a function to accept any number of positional arguments as a tuple.\n",
    "**kwargs allows a function to accept any number of keyword arguments as a dictionary.\n",
    "You can use both together in a function to handle flexible inputs.\n",
    "'''\n",
    "\n",
    "#coding challenge\n",
    "\n",
    "def summarize(*args, **kwargs):\n",
    "    total = sum(args)\n",
    "    \n",
    "    if kwargs.get('square', False):\n",
    "        total = total ** 2\n",
    "    if kwargs.get('negate', False):\n",
    "        total = -total\n",
    "        \n",
    "    return total\n",
    "\n",
    "print(summarize(1, 2, 3))                   \n",
    "print(summarize(1, 2, 3, square=True))       \n",
    "print(summarize(1, 2, 3, negate=True))       \n",
    "print(summarize(1, 2, 3, square=True, negate=True))  \n"
   ]
  },
  {
   "cell_type": "code",
   "execution_count": 1,
   "id": "4a876f4e",
   "metadata": {},
   "outputs": [
    {
     "name": "stdout",
     "output_type": "stream",
     "text": [
      "Before function call: ['apple', 'banana']\n",
      "After function call: ['apple', 'banana', 'new item']\n"
     ]
    }
   ],
   "source": [
    "'''3.  What is the difference between pass-by-value and pass-by-reference? \n",
    "    How does Python handle argument passing in functions? \n",
    "    -  Coding Challenge: Write a function that takes a list as an argument and modifies it by appending a new item. \n",
    "       Demonstrate how changes to the list inside the function affect the list outside the function.\n",
    "\n",
    "Answer -\n",
    "In pass-by-value, a copy of the actual data is passed, so changes don’t affect the original variable.\n",
    "In pass-by-reference, a reference to the original data is passed, so changes affect the original.\n",
    "\n",
    "Python uses **pass-by-object-reference**.\n",
    "Mutable objects like lists can be changed inside functions, affecting the original.\n",
    "Immutable objects like integers or strings do not change the original outside the function.\n",
    "'''\n",
    "\n",
    "#coding challenge\n",
    "\n",
    "def add_item(my_list):\n",
    "    my_list.append(\"new item\")\n",
    "\n",
    "items = [\"apple\", \"banana\"]\n",
    "print(\"Before function call:\", items)\n",
    "\n",
    "add_item(items)\n",
    "print(\"After function call:\", items)"
   ]
  },
  {
   "cell_type": "code",
   "execution_count": 3,
   "id": "2f73fbad",
   "metadata": {},
   "outputs": [
    {
     "name": "stdout",
     "output_type": "stream",
     "text": [
      "Function executed.\n",
      "Execution time: 2.001082 seconds\n"
     ]
    }
   ],
   "source": [
    "'''4.  How do decorators work in Python? \n",
    "    Explain with an example of a simple decorator that logs the execution time of a function. \n",
    "    -  Coding Challenge: Write a decorator `@timing` that prints the time taken by a function to execute.\n",
    "\n",
    "Answer -\n",
    "A decorator in Python is a function that takes another function as input and adds some functionality to it without changing its actual code.\n",
    "They are often used for logging, authentication, timing, etc.\n",
    "\n",
    "The `@decorator_name` syntax is used to apply a decorator to a function.\n",
    "'''\n",
    "\n",
    "#coding challenge\n",
    "\n",
    "import time\n",
    "\n",
    "def timing(func):\n",
    "    def wrapper(*args, **kwargs):\n",
    "        start = time.time()\n",
    "        result = func(*args, **kwargs)\n",
    "        end = time.time()\n",
    "        print(f\"Execution time: {end - start:.6f} seconds\")\n",
    "        return result\n",
    "    return wrapper\n",
    "\n",
    "@timing\n",
    "def slow_function():\n",
    "    time.sleep(2)\n",
    "    print(\"Function executed.\")\n",
    "\n",
    "slow_function()"
   ]
  },
  {
   "cell_type": "code",
   "execution_count": 4,
   "id": "38ade152",
   "metadata": {},
   "outputs": [
    {
     "name": "stdout",
     "output_type": "stream",
     "text": [
      "5\n",
      "4\n",
      "3\n",
      "2\n",
      "1\n"
     ]
    }
   ],
   "source": [
    "'''5.  What are generators in Python, and how do they differ from regular functions in terms of memory usage and performance? \n",
    "   -  Coding Challenge: Write a generator function `countdown(n)` that yields numbers from `n` down to 1.\n",
    "\n",
    "Answer -\n",
    "Generators are a type of function in Python that allow you to iterate over data without storing the entire sequence in memory.\n",
    "They use the `yield` keyword to return values one at a time, pausing between each call and resuming from where they left off.\n",
    "\n",
    "Compared to regular functions that use `return` and generate the entire list at once, generators are more memory-efficient,\n",
    "especially useful when working with large datasets or infinite sequences.\n",
    "'''\n",
    "\n",
    "# coding challenge\n",
    "\n",
    "def countdown(n):\n",
    "    while n > 0:\n",
    "        yield n\n",
    "        n -= 1\n",
    "\n",
    "for num in countdown(5):\n",
    "    print(num)"
   ]
  },
  {
   "cell_type": "code",
   "execution_count": 5,
   "id": "94ac1ab4",
   "metadata": {},
   "outputs": [
    {
     "name": "stdout",
     "output_type": "stream",
     "text": [
      "0\n",
      "1\n",
      "1\n",
      "2\n",
      "3\n",
      "5\n",
      "8\n",
      "13\n",
      "21\n",
      "34\n"
     ]
    }
   ],
   "source": [
    "'''6.  Explain the role of the `yield` statement in Python generators. How does it differ from the `return` statement in regular functions? \n",
    "   -  Coding Challenge: Write a generator `fibonacci()` that yields the Fibonacci sequence indefinitely.\n",
    "\n",
    "Answer -\n",
    "The `yield` statement is used in generators to produce a value and pause the function's execution, saving its state.\n",
    "When the generator is called again, it resumes right after the last `yield`.\n",
    "\n",
    "In contrast, `return` ends the function completely and sends back a single value.\n",
    "With `yield`, we can generate a sequence of values one by one, which helps save memory and improves performance.\n",
    "\n",
    "This makes `yield` perfect for large datasets or infinite sequences.\n",
    "'''\n",
    "\n",
    "# coding challenge\n",
    "\n",
    "def fibonacci():\n",
    "    a, b = 0, 1\n",
    "    while True:\n",
    "        yield a\n",
    "        a, b = b, a + b\n",
    "\n",
    "# Example usage (prints first 10 Fibonacci numbers)\n",
    "gen = fibonacci()\n",
    "for _ in range(10):\n",
    "    print(next(gen))"
   ]
  },
  {
   "cell_type": "code",
   "execution_count": null,
   "id": "f0039ae9",
   "metadata": {},
   "outputs": [
    {
     "name": "stdout",
     "output_type": "stream",
     "text": [
      "<generator object file_reader at 0x0000021F297B3E20>\n"
     ]
    }
   ],
   "source": [
    "'''7.  How can you use generators to handle large datasets or streams of data efficiently? Provide an example. \n",
    "   -  Coding Challenge: Write a generator `file_reader(file_name)` that reads a large text file line by line and yields each line.\n",
    "\n",
    "Answer -\n",
    "Generators are useful for handling large datasets because they produce one item at a time instead of loading everything into memory at once.\n",
    "This makes the code memory-efficient and faster, especially when working with files, logs, or data streams.\n",
    "\n",
    "For example, reading a huge file using a generator allows us to process each line without using too much RAM.\n",
    "'''\n",
    "\n",
    "# coding challenge\n",
    "\n",
    "def file_reader(file_name):\n",
    "    with open(file_name, 'r') as file:\n",
    "        for line in file:\n",
    "            yield line\n",
    "print(file_reader(\"hello\"))"
   ]
  },
  {
   "cell_type": "code",
   "execution_count": 14,
   "id": "e3e36aa5",
   "metadata": {},
   "outputs": [
    {
     "name": "stdout",
     "output_type": "stream",
     "text": [
      "<generator object <genexpr> at 0x0000021F297E8790>\n"
     ]
    }
   ],
   "source": [
    "'''8.  What are generator expressions, and how do they differ from list comprehensions? Provide an example where a generator expression would be more efficient than a list comprehension. \n",
    "   -  Coding Challenge: Convert the following list comprehension into a generator expression:\n",
    "     squares = [x **2 for x in range(1000000)]\n",
    "\n",
    "Answer -\n",
    "Generator expressions are similar to list comprehensions, but they use parentheses `()` instead of square brackets `[]`.\n",
    "The main difference is that generator expressions do not store the entire result in memory. They generate values one by one on the fly.\n",
    "\n",
    "So, for large data sets, generator expressions are more memory-efficient than list comprehensions.\n",
    "'''\n",
    "\n",
    "# coding challenge\n",
    "\n",
    "squares = (x ** 2 for x in range(1000000))\n",
    "print(squares)"
   ]
  },
  {
   "cell_type": "code",
   "execution_count": 15,
   "id": "74df536b",
   "metadata": {},
   "outputs": [
    {
     "name": "stdout",
     "output_type": "stream",
     "text": [
      "[5, 12, 21, 32]\n"
     ]
    }
   ],
   "source": [
    "'''9.  What are lambda functions in Python, and when should they be used over regular functions? What are some limitations of lambda functions? \n",
    "   -  Coding Challenge: Write a lambda function that takes two arguments and returns their product. Then, use this lambda function to multiply elements of two lists pairwise.\n",
    "\n",
    "Answer -\n",
    "Lambda functions are small anonymous functions defined using the `lambda` keyword. \n",
    "They are mainly used when we need a simple function for a short period, like inside `map()`, `filter()`, or `sorted()`.\n",
    "\n",
    "Use lambda functions when:\n",
    "- The function logic is simple (usually one line)\n",
    "- You don’t want to name the function\n",
    "\n",
    "Limitations:\n",
    "- Only one expression is allowed (no multiple lines or statements)\n",
    "- Hard to debug or reuse\n",
    "- Less readable for complex logic\n",
    "'''\n",
    "\n",
    "# coding challenge\n",
    "\n",
    "multiply = lambda a, b: a * b\n",
    "\n",
    "list1 = [1, 2, 3, 4]\n",
    "list2 = [5, 6, 7, 8]\n",
    "\n",
    "result = list(map(multiply, list1, list2))\n",
    "print(result)"
   ]
  },
  {
   "cell_type": "code",
   "execution_count": 16,
   "id": "ad25116d",
   "metadata": {},
   "outputs": [
    {
     "name": "stdout",
     "output_type": "stream",
     "text": [
      "Uppercase Words: ['APPLE', 'BANANA', 'CHERRY']\n",
      "Odd Numbers: [1, 3, 5, 7, 9]\n",
      "Product of All Numbers: 362880\n"
     ]
    }
   ],
   "source": [
    "'''10.  How can lambda functions be used with Python's built-in functions like `map()`, `filter()`, and `reduce()`? Provide examples of each. \n",
    "     -  Coding Challenge: Use `map()` with a lambda function to convert a list of strings to uppercase. \n",
    "                          Use `filter()` with a lambda function to filter out even numbers from a list. \n",
    "                          Finally, use `reduce()` with a lambda function to find the product of all numbers in a list.\n",
    "\n",
    "Answer -\n",
    "Lambda functions are often used with Python’s built-in higher-order functions:\n",
    "\n",
    "- `map()` applies a function to every element of a list or iterable.\n",
    "- `filter()` keeps only elements that satisfy a condition.\n",
    "- `reduce()` (from functools) applies a function cumulatively to reduce the list to a single value.\n",
    "\n",
    "Using lambda with them makes the code concise and readable for simple logic.\n",
    "'''\n",
    "\n",
    "# coding challenge\n",
    "\n",
    "from functools import reduce\n",
    "\n",
    "# Using map() to convert to uppercase\n",
    "words = ['apple', 'banana', 'cherry']\n",
    "upper_words = list(map(lambda x: x.upper(), words))\n",
    "print(\"Uppercase Words:\", upper_words)\n",
    "\n",
    "# Using filter() to remove even numbers\n",
    "numbers = [1, 2, 3, 4, 5, 6, 7, 8, 9]\n",
    "odd_numbers = list(filter(lambda x: x % 2 != 0, numbers))\n",
    "print(\"Odd Numbers:\", odd_numbers)\n",
    "\n",
    "# Using reduce() to find product of all numbers\n",
    "product = reduce(lambda x, y: x * y, numbers)\n",
    "print(\"Product of All Numbers:\", product)\n"
   ]
  }
 ],
 "metadata": {
  "kernelspec": {
   "display_name": "Python 3",
   "language": "python",
   "name": "python3"
  },
  "language_info": {
   "codemirror_mode": {
    "name": "ipython",
    "version": 3
   },
   "file_extension": ".py",
   "mimetype": "text/x-python",
   "name": "python",
   "nbconvert_exporter": "python",
   "pygments_lexer": "ipython3",
   "version": "3.13.3"
  }
 },
 "nbformat": 4,
 "nbformat_minor": 5
}
