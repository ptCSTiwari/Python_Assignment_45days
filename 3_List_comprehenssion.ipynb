{
 "cells": [
  {
   "cell_type": "code",
   "execution_count": 3,
   "id": "25e2d7a0",
   "metadata": {},
   "outputs": [
    {
     "name": "stdout",
     "output_type": "stream",
     "text": [
      "[0, 1, 4, 9, 16, 25, 36, 49, 64, 81]\n"
     ]
    }
   ],
   "source": [
    "'''1.  What are list comprehensions in Python, and how do they differ from traditional `for` loops in terms of syntax and performance? \n",
    "   -  Coding Challenge:  Convert the following `for` loop into a list comprehension:\n",
    "     \n",
    "     squares = [ ]\n",
    "     for i in range(10):\n",
    "         squares.append(i  ** 2)\n",
    "\n",
    "Answer-\n",
    "List comprehension is a shorter way to create a list. Instead of writing multiple lines using a for loop, we can write it in just one line.\n",
    "\n",
    "It's also faster than a normal loop because Python internally optimizes it.\n",
    "\n",
    "Main differences:\n",
    "In a for loop, we first create an empty list and then add elements using .append()\n",
    "\n",
    "In list comprehension, we create and fill the list in one line.'''\n",
    "\n",
    "#coding challange\n",
    "\n",
    "squares = [i ** 2 for i in range(10)]\n",
    "print(squares)\n"
   ]
  },
  {
   "cell_type": "code",
   "execution_count": 4,
   "id": "b892134f",
   "metadata": {},
   "outputs": [
    {
     "name": "stdout",
     "output_type": "stream",
     "text": [
      "[2, 4, 6, 8, 10, 12, 14, 16, 18, 20, 22, 24, 26, 28, 30, 32, 34, 36, 38, 40, 42, 44, 46, 48, 50]\n"
     ]
    }
   ],
   "source": [
    "'''2.  How can you include conditional statements within a list comprehension? Provide an example. \n",
    "   -  Coding Challenge:  Create a list comprehension that generates a list of all even numbers between 1 and 50.\n",
    "   \n",
    "Answer -\n",
    "Conditional statements can be added inside list comprehensions using an 'if' condition.\n",
    "It helps in filtering data directly while creating the list, making the code shorter and cleaner.\n",
    "\n",
    "Example: [x for x in list if condition]\n",
    "It avoids the need for writing multiple lines like in a normal loop.\n",
    "'''\n",
    "\n",
    "#coding challenge\n",
    "\n",
    "even_numbers = [i for i in range(1, 51) if i % 2 == 0]\n",
    "print(even_numbers)\n"
   ]
  },
  {
   "cell_type": "code",
   "execution_count": 5,
   "id": "a77ba87a",
   "metadata": {},
   "outputs": [
    {
     "name": "stdout",
     "output_type": "stream",
     "text": [
      "[0, 2, 0, 0, 5, 0]\n"
     ]
    }
   ],
   "source": [
    "'''3.  Explain the difference between `if` and `if-else` conditions in list comprehensions. How do you use them? \n",
    "   -  Coding Challenge:  Write a list comprehension that replaces every negative number in a list with 0, leaving positive numbers unchanged.\n",
    "\n",
    "Answer -\n",
    "Using only `if` in list comprehension is for filtering — it includes values that match the condition.\n",
    "Using `if-else` is for transforming — it changes the value based on condition.\n",
    "\n",
    "Syntax:\n",
    "With `if`:      [x for x in list if condition]\n",
    "With `if-else`: [value_if_true if condition else value_if_false for x in list]\n",
    "'''\n",
    "\n",
    "#coding challenge\n",
    "\n",
    "numbers = [-4, 2, -1, 0, 5, -9]\n",
    "result = [x if x >= 0 else 0 for x in numbers]\n",
    "print(result)\n"
   ]
  },
  {
   "cell_type": "code",
   "execution_count": 6,
   "id": "752c7463",
   "metadata": {},
   "outputs": [
    {
     "name": "stdout",
     "output_type": "stream",
     "text": [
      "[1, 2, 3, 4, 5, 6, 7, 8, 9]\n"
     ]
    }
   ],
   "source": [
    "'''4.  How can you use nested list comprehensions to flatten a 2D list (a list of lists) into a 1D list? \n",
    "   -  Coding Challenge:  Given a 2D list `matrix = [[1, 2, 3], [4, 5, 6], [7, 8, 9]]`, write a list comprehension to flatten it into a single list.\n",
    "\n",
    "Answer -\n",
    "In nested list comprehensions, we use two `for` loops inside one line.\n",
    "The first loop goes through each sublist, and the second goes through each item in that sublist.\n",
    "This is how we can flatten a 2D list into a 1D list.\n",
    "'''\n",
    "\n",
    "#coding challenge\n",
    "\n",
    "matrix = [[1, 2, 3], [4, 5, 6], [7, 8, 9]]\n",
    "flattened = [num for row in matrix for num in row]\n",
    "print(flattened)\n"
   ]
  },
  {
   "cell_type": "code",
   "execution_count": null,
   "id": "34eaa44e",
   "metadata": {},
   "outputs": [
    {
     "name": "stdout",
     "output_type": "stream",
     "text": [
      "[2, 4, 6, 8, 2, 4, 6, 8, 10, 12, 14, 16, 18, 6, 12, 18, 24, 4, 8, 12, 16, 20, 24, 28, 32, 36, 10, 20, 30, 40, 6, 12, 18, 24, 30, 36, 42, 48, 54, 14, 28, 42, 56, 8, 16, 24, 32, 40, 48, 56, 64, 72, 18, 36, 54, 72]\n"
     ]
    }
   ],
   "source": [
    "'''5.  What are the limitations of list comprehensions in terms of readability and complexity? When should you prefer a traditional loop over a list comprehension? \n",
    "   -  Coding Challenge:  Rewrite the following list comprehension using a traditional loop to improve readability:\n",
    "     \n",
    "     result = [x*y for x in range(1, 10) for y in range(1, 10) if x*y % 2 == 0]\n",
    "\n",
    "Answer -\n",
    "List comprehensions are great for short and simple logic.\n",
    "But when logic becomes too complex (like using multiple loops or conditions), it reduces readability.\n",
    "In such cases, using traditional loops makes the code easier to read and debug.\n",
    "'''\n",
    "\n",
    "#coding challenge\n",
    "\n",
    "result = []\n",
    "for x in range(1, 10):\n",
    "    for y in range(1, 10):\n",
    "        if (x * y) % 2 == 0:\n",
    "            result.append(x * y)\n",
    "print(result)\n"
   ]
  },
  {
   "cell_type": "code",
   "execution_count": 8,
   "id": "3f37125c",
   "metadata": {},
   "outputs": [
    {
     "name": "stdout",
     "output_type": "stream",
     "text": [
      "[5, 3, 2, 7, 9]\n"
     ]
    }
   ],
   "source": [
    "'''6.  How can you use list comprehensions with functions? Provide an example where a function is called within a list comprehension. \n",
    "   -  Coding Challenge:  Write a list comprehension that applies the `abs()` function to each number in a list, converting all numbers to their absolute values.\n",
    "\n",
    "Answer -\n",
    "We can easily call functions inside a list comprehension.\n",
    "This helps in applying the same function to every element in a list in one line.\n",
    "\n",
    "Example:\n",
    "new_list = [my_function(x) for x in original_list]\n",
    "'''\n",
    "\n",
    "#coding challenge\n",
    "\n",
    "numbers = [-5, 3, -2, 7, -9]\n",
    "abs_values = [abs(x) for x in numbers]\n",
    "print(abs_values)\n"
   ]
  },
  {
   "cell_type": "code",
   "execution_count": null,
   "id": "b539f875",
   "metadata": {},
   "outputs": [
    {
     "name": "stdout",
     "output_type": "stream",
     "text": [
      "List: [0, 1, 4, 9, 16]\n",
      "Value of x after list comprehension: 100\n"
     ]
    }
   ],
   "source": [
    "'''7.  How do list comprehensions handle the scope of variables? What happens if you use a variable name inside a list comprehension that is also used outside it? \n",
    "   -  Coding Challenge:  Demonstrate the scope behavior of variables in list comprehensions by creating a list comprehension that unintentionally overrides a variable defined outside the comprehension.\n",
    "\n",
    "Answer -\n",
    "In Python 3, variables used inside list comprehensions have their **own local scope**.\n",
    "So, they don't affect variables with the same name outside the comprehension.\n",
    "But in Python 2, they used to override outer variables, which could cause bugs.\n",
    "'''\n",
    "\n",
    "#coding challenge\n",
    "\n",
    "x = 100\n",
    "squares = [x**2 for x in range(5)]\n",
    "print(\"List:\", squares)\n",
    "print(\"Value of x after list comprehension:\", x)\n"
   ]
  },
  {
   "cell_type": "code",
   "execution_count": 10,
   "id": "27381e14",
   "metadata": {},
   "outputs": [
    {
     "name": "stdout",
     "output_type": "stream",
     "text": [
      "[0, 3, 6, 9, 12, 15, 18, 21, 24, 27, 30, 33, 36, 39, 42, 45, 48, 51, 54, 57, 60, 63, 66, 69, 72, 75, 78, 81, 84, 87, 90, 93, 96, 99]\n"
     ]
    }
   ],
   "source": [
    "'''8.  What are the differences between list comprehensions and generator expressions? When would you use one over the other? \n",
    "   -  Coding Challenge:  Convert the following list comprehension into a generator expression:\n",
    "     multiples_of_three = [x for x in range(100) if x % 3 == 0]\n",
    "\n",
    "Answer -\n",
    "**List Comprehension** creates the whole list in memory at once. It’s faster when you need all the values quickly.\n",
    "\n",
    "**Generator Expression** does **not** store all values at once. It gives one value at a time using less memory — best for large data.\n",
    "\n",
    "Use **list comprehension** when you need the complete list.\n",
    "Use **generator expression** when working with large data or looping over results only once.\n",
    "'''\n",
    "\n",
    "#coding challenge\n",
    "\n",
    "multiples_of_three = (x for x in range(100) if x % 3 == 0)\n",
    "print(list(multiples_of_three))  # converting to list just to see the output\n"
   ]
  },
  {
   "cell_type": "code",
   "execution_count": 11,
   "id": "a8cc1876",
   "metadata": {},
   "outputs": [
    {
     "name": "stdout",
     "output_type": "stream",
     "text": [
      "[1, 16, 49, 100]\n"
     ]
    }
   ],
   "source": [
    "'''9.  How can you use a list comprehension to filter and transform data in one step? Provide an example. \n",
    "   -  Coding Challenge:  Write a list comprehension that filters out all strings from a mixed list of integers and strings, and then converts the remaining integers to their square values.\n",
    "\n",
    "Answer -\n",
    "List comprehension can do **filtering** (using `if`) and **transformation** (like squaring or modifying values) in the **same line**.\n",
    "\n",
    "It’s a compact way to:\n",
    "1. Remove unwanted data\n",
    "2. Modify the remaining data\n",
    "'''\n",
    "\n",
    "#coding challenge\n",
    "\n",
    "mixed_list = [1, 'apple', 4, 'banana', 7, 'cat', 10]\n",
    "squares = [x**2 for x in mixed_list if type(x) == int]\n",
    "print(squares)   # Output: [1, 16, 49, 100]\n"
   ]
  },
  {
   "cell_type": "code",
   "execution_count": null,
   "id": "605a0814",
   "metadata": {},
   "outputs": [],
   "source": [
    "'''10.  Can you create a dictionary or set using comprehension syntax in Python? How does the syntax differ from list comprehensions? \n",
    "    -  Coding Challenge:  Write a dictionary comprehension that maps each character in a string to its ASCII value. For example, given the string \"hello\", the result should be {'h': 104, 'e': 101, 'l': 108, 'o': 111}\n",
    "\n",
    "Answer -\n",
    "Yes, Python allows you to use **dictionary** and **set comprehensions** just like list comprehensions, but the syntax changes slightly.\n",
    "\n",
    "For **dictionary comprehension**:  \n",
    "   `{key: value for item in iterable}`\n",
    "\n",
    "For **set comprehension**:  \n",
    "   `{expression for item in iterable}`\n",
    "\n",
    "Difference: List uses `[ ]`, dict uses `{key: value}`, and set uses `{value}` only.\n",
    "'''\n",
    "\n",
    "#coding challenge\n",
    "\n",
    "text = \"hello\"\n",
    "ascii_map = {char: ord(char) for char in text}\n",
    "print(ascii_map)  # Output: {'h': 104, 'e': 101, 'l': 108, 'o': 111}\n"
   ]
  }
 ],
 "metadata": {
  "kernelspec": {
   "display_name": "Python 3",
   "language": "python",
   "name": "python3"
  },
  "language_info": {
   "codemirror_mode": {
    "name": "ipython",
    "version": 3
   },
   "file_extension": ".py",
   "mimetype": "text/x-python",
   "name": "python",
   "nbconvert_exporter": "python",
   "pygments_lexer": "ipython3",
   "version": "3.13.3"
  }
 },
 "nbformat": 4,
 "nbformat_minor": 5
}
