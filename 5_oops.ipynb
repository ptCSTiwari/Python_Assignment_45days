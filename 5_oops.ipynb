{
 "cells": [
  {
   "cell_type": "code",
   "execution_count": null,
   "id": "730bb418",
   "metadata": {},
   "outputs": [
    {
     "name": "stdout",
     "output_type": "stream",
     "text": [
      "Title: The Tiwari\n",
      "Author: Pushpendra\n",
      "Year Published: 1988\n"
     ]
    }
   ],
   "source": [
    "'''1. What is the difference between a class and an object in Python? How do they relate to each other in the context of OOP?\n",
    "- Coding Challenge: Define a class `Book` with attributes like `title`, `author`, and `year_published`. Create an instance of the class and print out its attributes.\n",
    "\n",
    "Answer -\n",
    "A class is a blueprint for creating objects. It defines properties (attributes) and behaviors (methods).\n",
    "An object is an instance of a class. It contains actual values and can use the class's methods.\n",
    "\n",
    "In OOP, a class defines the structure, and an object is the real-world implementation of that structure.'''\n",
    "\n",
    "#Coding Challenge\n",
    "\n",
    "class Book:\n",
    "    def __init__(self, title, author, year_published):\n",
    "        self.title = title\n",
    "        self.author = author\n",
    "        self.year_published = year_published\n",
    "\n",
    "my_book = Book(\"The Tiwari\", \"Pushpendra\", 1988)\n",
    "print(\"Title:\", my_book.title)\n",
    "print(\"Author:\", my_book.author)\n",
    "print(\"Year Published:\", my_book.year_published)\n"
   ]
  },
  {
   "cell_type": "code",
   "execution_count": null,
   "id": "33bde8ee",
   "metadata": {},
   "outputs": [
    {
     "name": "stdout",
     "output_type": "stream",
     "text": [
      "Vehicle is moving\n",
      "Car is driving\n",
      "Bike is riding\n"
     ]
    }
   ],
   "source": [
    "'''2. Explain the concept of inheritance in Python. How does it promote code reuse and what are some potential pitfalls?  \n",
    "- Coding Challenge: Create a base class `Vehicle` with a method `move`. Then, create two derived classes `Car` and `Bike` that inherit from `Vehicle` and override the `move` method.\n",
    "\n",
    "Answer -\n",
    "Inheritance allows a class (child) to use the properties and methods of another class (parent).\n",
    "It promotes code reuse by letting subclasses reuse code from a parent class instead of rewriting it.\n",
    "Pitfalls include tightly coupled classes and unexpected behavior if parent methods are not properly overridden.'''\n",
    "\n",
    "#Coding Challenge\n",
    "\n",
    "class Vehicle:\n",
    "    def move(self):\n",
    "        print(\"Vehicle is moving\")\n",
    "class Car(Vehicle):\n",
    "    def move(self):\n",
    "        print(\"Car is driving\")\n",
    "class Bike(Vehicle):\n",
    "    def move(self):\n",
    "        print(\"Bike is riding\")\n",
    "\n",
    "v = Vehicle()\n",
    "v.move()\n",
    "c = Car()\n",
    "c.move()\n",
    "b = Bike()\n",
    "b.move()\n"
   ]
  },
  {
   "cell_type": "code",
   "execution_count": null,
   "id": "5876fb08",
   "metadata": {},
   "outputs": [
    {
     "name": "stdout",
     "output_type": "stream",
     "text": [
      "Boat is sailing\n",
      "Airplane is flying\n"
     ]
    }
   ],
   "source": [
    "'''3. What is polymorphism in Python, and how is it implemented through method overriding and method overloading?  \n",
    "- Coding Challenge: Write a function `move_vehicle` that takes an object as input and calls its `move` method. Create different classes (`Boat`, `Airplane`, etc.) that have their own `move` methods and pass their instances to `move_vehicle`.\n",
    "\n",
    "Answer -\n",
    "Polymorphism means \"many forms\". In Python, it allows the same method name to behave differently depending on the object.\n",
    "Method overriding is done in child classes where the inherited method is redefined.\n",
    "Python doesn’t support traditional method overloading, but similar behavior can be achieved using default or variable-length arguments.'''\n",
    "\n",
    "#Coding Challenge\n",
    "\n",
    "class Boat:\n",
    "    def move(self):\n",
    "        print(\"Boat is sailing\")\n",
    "\n",
    "class Airplane:\n",
    "    def move(self):\n",
    "        print(\"Airplane is flying\")\n",
    "\n",
    "def move_vehicle(vehicle):\n",
    "    vehicle.move()\n",
    "\n",
    "b = Boat()\n",
    "a = Airplane()\n",
    "\n",
    "move_vehicle(b)\n",
    "move_vehicle(a)\n"
   ]
  },
  {
   "cell_type": "code",
   "execution_count": null,
   "id": "89252e5e",
   "metadata": {},
   "outputs": [
    {
     "name": "stdout",
     "output_type": "stream",
     "text": [
      "Static multiply: 12\n",
      "Class method from_values: 30\n"
     ]
    }
   ],
   "source": [
    "'''4. What are class methods and static methods in Python? How do they differ from instance methods?  \n",
    "- Coding Challenge: Define a class `Calculator` with a static method `multiply(a, b)` that returns the product of `a` and `b`,and a class method `from_values` that creates an instance from a list of two values and returns their product.\n",
    "\n",
    "Answer -\n",
    "Instance methods use `self` and access instance attributes.\n",
    "Class methods use `cls` and work with class-level data. They're defined with the `@classmethod` decorator.\n",
    "Static methods don’t use `self` or `cls`. They behave like normal functions but belong to the class’s namespace. They’re defined using `@staticmethod`.'''\n",
    "\n",
    "#Coding Challenge\n",
    "\n",
    "class Calculator:\n",
    "    @staticmethod\n",
    "    def multiply(a, b):\n",
    "        return a * b\n",
    "\n",
    "    @classmethod\n",
    "    def from_values(cls, values):\n",
    "        if len(values) == 2:\n",
    "            return cls.multiply(values[0], values[1])\n",
    "        else:\n",
    "            return None\n",
    "\n",
    "print(\"Static multiply:\", Calculator.multiply(3, 4)) \n",
    "print(\"Class method from_values:\", Calculator.from_values([5, 6])) \n"
   ]
  },
  {
   "cell_type": "code",
   "execution_count": null,
   "id": "9a5236cb",
   "metadata": {},
   "outputs": [
    {
     "name": "stdout",
     "output_type": "stream",
     "text": [
      "Name: Tiwari\n",
      "Age: 30\n"
     ]
    }
   ],
   "source": [
    "'''5. Explain the concept of encapsulation and how Python supports it through public, protected, and private attributes and methods.  \n",
    "- Coding Challenge: Create a class `Person` with private attributes `name` and `age`, and methods to set and get these attributes. Ensure that direct access to `name` and `age` is not allowed from outside the class.\n",
    "\n",
    "Answer -\n",
    "Encapsulation is the concept of hiding internal object details from the outside world and only exposing what is necessary.\n",
    "Python supports this using:\n",
    "- Public attributes: Accessible from anywhere (`name`)\n",
    "- Protected attributes: Indicated by a single underscore (`_name`) – intended to be accessed within class and subclasses\n",
    "- Private attributes: Indicated by double underscore (`__name`) – name mangled to avoid direct access from outside'''\n",
    "\n",
    "#Coding Challenge\n",
    "\n",
    "class Person:\n",
    "    def __init__(self, name, age):\n",
    "        self.__name = name   \n",
    "        self.__age = age  \n",
    "\n",
    "    def set_name(self, name):\n",
    "        self.__name = name\n",
    "\n",
    "    def get_name(self):\n",
    "        return self.__name\n",
    "\n",
    "    def set_age(self, age):\n",
    "        self.__age = age\n",
    "\n",
    "    def get_age(self):\n",
    "        return self.__age\n",
    "p = Person(\"Tiwari\", 30)\n",
    "print(\"Name:\", p.get_name())   \n",
    "print(\"Age:\", p.get_age()) \n"
   ]
  },
  {
   "cell_type": "code",
   "execution_count": 16,
   "id": "089915ae",
   "metadata": {},
   "outputs": [
    {
     "name": "stdout",
     "output_type": "stream",
     "text": [
      "Product Name: Laptop\n",
      "Product Price: ₹55000\n"
     ]
    }
   ],
   "source": [
    "'''6. What is the purpose of the `__init__` method in Python classes? How does it differ from other methods?  \n",
    "- Coding Challenge: Write a class `Product` with an `__init__` method that initializes the product's `name` and `price`. Create an instance of `Product` and print the product's details.\n",
    "\n",
    "Answer -\n",
    "The `__init__` method is a special method in Python classes known as a constructor.\n",
    "It is automatically called when a new object of the class is created.\n",
    "It is used to initialize the attributes of the object.\n",
    "Unlike regular methods, `__init__` is not called explicitly.'''\n",
    "\n",
    "# Coding Challenge:\n",
    "\n",
    "class Product:\n",
    "    def __init__(self, name, price):\n",
    "        self.name = name\n",
    "        self.price = price\n",
    "\n",
    "    def display(self):\n",
    "        print(f\"Product Name: {self.name}\")\n",
    "        print(f\"Product Price: ₹{self.price}\")\n",
    "\n",
    "item = Product(\"Laptop\", 55000)\n",
    "item.display()\n"
   ]
  },
  {
   "cell_type": "code",
   "execution_count": null,
   "id": "90d7888b",
   "metadata": {},
   "outputs": [
    {
     "name": "stdout",
     "output_type": "stream",
     "text": [
      "SmartFridge is preparing to operate...\n",
      "Operating as an Appliance\n",
      "Method Resolution Order: ['SmartFridge', 'Appliance', 'Electronic', 'object']\n"
     ]
    }
   ],
   "source": [
    "'''7. How does Python implement multiple inheritance, and what is the method resolution order (MRO)? \n",
    "   How does MRO resolve conflicts in multiple inheritance?  \n",
    "-  Coding Challenge: Create two classes `Appliance` and `Electronic` with a method `operate()`. Then, create a class `SmartFridge` that inherits from both `Appliance` and `Electronic` and overrides `operate()`. \n",
    " Use `super()` to demonstrate MRO in `SmartFridge`.\n",
    "\n",
    "Answer -\n",
    "Python supports multiple inheritance, which means a class can inherit from more than one parent class.\n",
    "The Method Resolution Order (MRO) defines the order in which base classes are searched when executing a method.\n",
    "Python uses the C3 linearization algorithm to determine MRO, ensuring a consistent and predictable order.\n",
    "The `super()` function follows the MRO to call the next method in line.'''\n",
    "\n",
    "# Coding Challenge\n",
    "\n",
    "class Appliance:\n",
    "    def operate(self):\n",
    "        print(\"Operating as an Appliance\")\n",
    "\n",
    "class Electronic:\n",
    "    def operate(self):\n",
    "        print(\"Operating as an Electronic\")\n",
    "\n",
    "class SmartFridge(Appliance, Electronic):\n",
    "    def operate(self):\n",
    "        print(\"SmartFridge is preparing to operate...\")\n",
    "        super().operate()  \n",
    "fridge = SmartFridge()\n",
    "fridge.operate()\n",
    "\n",
    "# Print MRO\n",
    "print(\"Method Resolution Order:\", [cls.__name__ for cls in SmartFridge.__mro__])\n"
   ]
  },
  {
   "cell_type": "code",
   "execution_count": 18,
   "id": "49c34640",
   "metadata": {},
   "outputs": [
    {
     "name": "stdout",
     "output_type": "stream",
     "text": [
      "Starting the truck...\n",
      "Engine started\n"
     ]
    }
   ],
   "source": [
    "'''9. What is the difference between composition and inheritance in OOP? \n",
    "   When would you use composition instead of inheritance?\n",
    "   - Coding Challenge: Create a class `Engine` and a class `Truck` that uses composition \n",
    "     by having an instance of `Engine` as an attribute of `Truck`.\n",
    "\n",
    "Answer -\n",
    "Inheritance is when one class (child) gets properties and methods from another class (parent). It means \"is-a\" relationship.\n",
    "For example, a Dog class can inherit from Animal class because a dog is an animal.\n",
    "\n",
    "Composition is when a class includes objects of other classes to use their features. It means \"has-a\" relationship.\n",
    "For example, a Truck class can have an Engine because a truck has an engine.\n",
    "\n",
    "Use composition when:\n",
    "- You want more flexibility.\n",
    "- You don't need to inherit everything from a parent class.\n",
    "- You want to reduce tight coupling between classes.'''\n",
    "\n",
    "# Coding Challenge:\n",
    "\n",
    "class Engine:\n",
    "    def start(self):\n",
    "        print(\"Engine started\")\n",
    "\n",
    "class Truck:\n",
    "    def __init__(self):\n",
    "        self.engine = Engine() \n",
    "\n",
    "    def start_truck(self):\n",
    "        print(\"Starting the truck...\")\n",
    "        self.engine.start() \n",
    "my_truck = Truck()\n",
    "my_truck.start_truck()\n"
   ]
  },
  {
   "cell_type": "code",
   "execution_count": 19,
   "id": "63224d75",
   "metadata": {},
   "outputs": [
    {
     "name": "stdout",
     "output_type": "stream",
     "text": [
      "Radius: 5\n",
      "Diameter: 10\n",
      "Area: 78.53981633974483\n"
     ]
    }
   ],
   "source": [
    "'''10. Explain the purpose of property decorators (`@property`) in Python. \n",
    "    How do they contribute to data encapsulation and controlled access to class attributes?\n",
    "    - Coding Challenge: Write a class `Circle` with attribute `radius`. Use property decorators to \n",
    "      create a `diameter` property that returns the diameter of the circle and an `area` property \n",
    "      that returns the area of the circle.\n",
    "\n",
    "Answer -\n",
    "The `@property` decorator in Python is used to make a method behave like an attribute.\n",
    "It allows controlled access to private variables, meaning we can compute or validate values \n",
    "when accessing them like normal attributes.\n",
    "\n",
    "It helps in data encapsulation by hiding internal logic and providing controlled read-only access.\n",
    "\n",
    "For example, instead of calling `get_diameter()`, we can just use `circle.diameter`, \n",
    "and the method runs behind the scenes.'''\n",
    "\n",
    "# Coding Challenge:\n",
    "\n",
    "import math\n",
    "\n",
    "class Circle:\n",
    "    def __init__(self, radius):\n",
    "        self._radius = radius  \n",
    "\n",
    "    @property\n",
    "    def radius(self):\n",
    "        return self._radius\n",
    "\n",
    "    @property\n",
    "    def diameter(self):\n",
    "        return 2 * self._radius\n",
    "\n",
    "    @property\n",
    "    def area(self):\n",
    "        return math.pi * self._radius ** 2\n",
    "\n",
    "c = Circle(5)\n",
    "print(\"Radius:\", c.radius)\n",
    "print(\"Diameter:\", c.diameter)\n",
    "print(\"Area:\", c.area)\n"
   ]
  }
 ],
 "metadata": {
  "kernelspec": {
   "display_name": "Python 3",
   "language": "python",
   "name": "python3"
  },
  "language_info": {
   "codemirror_mode": {
    "name": "ipython",
    "version": 3
   },
   "file_extension": ".py",
   "mimetype": "text/x-python",
   "name": "python",
   "nbconvert_exporter": "python",
   "pygments_lexer": "ipython3",
   "version": "3.13.3"
  }
 },
 "nbformat": 4,
 "nbformat_minor": 5
}
